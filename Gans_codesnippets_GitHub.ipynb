{
  "nbformat": 4,
  "nbformat_minor": 0,
  "metadata": {
    "colab": {
      "provenance": []
    },
    "kernelspec": {
      "name": "python3",
      "display_name": "Python 3"
    },
    "language_info": {
      "name": "python"
    }
  },
  "cells": [
    {
      "cell_type": "code",
      "execution_count": null,
      "metadata": {
        "id": "Kp3p62nUe0ff"
      },
      "outputs": [],
      "source": [
        "def cities_dataframe(cities):\n",
        "\n",
        "  city_data = []\n",
        "\n",
        "    # for loop to iterate same process for every city we want.\n",
        "  for city in cities:\n",
        "    url = f\"https://www.wikipedia.org/wiki/{city}\"\n",
        "    response = requests.get(url)\n",
        "    city_soup = BeautifulSoup(response.content, 'html.parser')\n",
        "\n",
        "    # extract the relevant information\n",
        "    city_latitude = city_soup.find(class_=\"latitude\").get_text()\n",
        "    city_longitude = city_soup.find(class_=\"longitude\").get_text()\n",
        "    country = city_soup.find(class_=\"infobox-data\").get_text()\n",
        "\n",
        "    # keep track of data per city\n",
        "    city_data.append({\"City\": city,\n",
        "                    \"Country\": country,\n",
        "                    \"Latitude\": parse(city_latitude), # latitude in decimal format\n",
        "                    \"Longitude\": parse(city_longitude), # longitude in decimal format\n",
        "                    })\n",
        "\n",
        "  return pd.DataFrame(city_data)"
      ]
    },
    {
      "cell_type": "code",
      "source": [
        "import pandas as pd\n",
        "import requests\n",
        "from pytz import timezone\n",
        "from datetime import datetime\n",
        "import sqlalchemy\n",
        "\n",
        "def get_weather_data():\n",
        "\n",
        "    schema = \"databasename\" # The name of your database\n",
        "    host = \"host_numb\"\n",
        "    user = \"sql_user\"\n",
        "    password = \"mysqlpw\"\n",
        "    port = XXXX\n",
        "\n",
        "    connection_string = f'mysql+pymysql://{user}:{password}@{host}:{port}/{schema}'\n",
        "\n",
        "    cities_df = pd.read_sql(\"cities\", con=connection_string)\n",
        "\n",
        "\n",
        "\n",
        "    berlin_timezone = timezone('Europe/Berlin')\n",
        "    API_key = \"insertAPIkeyhere\"\n",
        "\n",
        "    weather_items_3 = []\n",
        "\n",
        "    for _, city in cities_df.iterrows():\n",
        "        latitude = city[\"Latitude\"]\n",
        "        longitude = city[\"Longitude\"]\n",
        "        city_id = city[\"City_id\"]\n",
        "\n",
        "        url = (f\"https://api.openweathermap.org/data/2.5/forecast?lat={latitude}&lon={longitude}&appid={API_key}&units=metric\")\n",
        "        response = requests.get(url)\n",
        "        weather_data = response.json()\n",
        "\n",
        "        retrieval_time = datetime.now(berlin_timezone).strftime(\"%Y-%m-%d %H:%M:%S\")\n",
        "\n",
        "        for item in weather_data[\"list\"]:\n",
        "            weather_item_3 = {\n",
        "            \"City_id\": city_id,\n",
        "            \"Forecast_time\": item.get(\"dt_txt\", None),\n",
        "            \"Outlook\": item[\"weather\"][0].get(\"description\", None),\n",
        "            \"Temperature\": item[\"main\"].get(\"temp\", None),\n",
        "            \"Rain_in_last_3h\": item.get(\"rain\", {}).get(\"3h\", 0),\n",
        "            \"Wind_speed\": item[\"wind\"].get(\"speed\", None),\n",
        "            \"Rain_prob\": item.get(\"pop\", None),\n",
        "            \"Data_retrieved_at\": retrieval_time\n",
        "        }\n",
        "\n",
        "            weather_items_3.append(weather_item_3)\n",
        "\n",
        "    weather_df_3 = pd.DataFrame(weather_items_3)\n",
        "    weather_df_3[\"Forecast_time\"] = pd.to_datetime(weather_df_3[\"Forecast_time\"])\n",
        "    weather_df_3[\"Data_retrieved_at\"] = pd.to_datetime(weather_df_3[\"Data_retrieved_at\"])\n",
        "\n",
        "    return weather_df_3"
      ],
      "metadata": {
        "id": "yuurpPSrfJZC"
      },
      "execution_count": null,
      "outputs": []
    }
  ]
}